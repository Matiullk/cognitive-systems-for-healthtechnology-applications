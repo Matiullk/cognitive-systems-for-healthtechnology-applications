{
 "cells": [
  {
   "cell_type": "markdown",
   "metadata": {},
   "source": [
    "# Case 1. Heart Disease Classification\n",
    "Ville Seeste<br>\n",
    "Last edited: 02.02.2018<br>\n",
    "Cognitive Systems for Health Technology Applications<br>\n",
    "[Helsinki Metropolia University of Applied Sciences](http://www.metropolia.fi/en/)<br>"
   ]
  },
  {
   "cell_type": "markdown",
   "metadata": {},
   "source": [
    "## 1. Objectives"
   ]
  },
  {
   "cell_type": "markdown",
   "metadata": {},
   "source": [
    "Objectives in this exercise is to learn how to preprocess given data and try to predict if people is going to have a heart disease."
   ]
  },
  {
   "cell_type": "markdown",
   "metadata": {},
   "source": [
    "## 2. Required libraries"
   ]
  },
  {
   "cell_type": "code",
   "execution_count": 679,
   "metadata": {},
   "outputs": [],
   "source": [
    "# Required libraries\n",
    "import numpy as np\n",
    "import matplotlib.pyplot as plt\n",
    "import pandas as pd\n",
    "from sklearn.utils import shuffle\n",
    "import keras\n",
    "\n",
    "import sklearn as sk\n",
    "from sklearn import preprocessing\n",
    "from sklearn.model_selection import train_test_split\n",
    "% matplotlib inline"
   ]
  },
  {
   "cell_type": "markdown",
   "metadata": {},
   "source": [
    "## 3. Data description and preprocessing"
   ]
  },
  {
   "cell_type": "markdown",
   "metadata": {},
   "source": [
    "At first I tried to combine 4 different datasets but I noticed that Switzerland and Long Beach datasets have that many missing data values so it's not probably the best idea to replace them with the mean values of the column. I even tested with 4 datasets but the outcome didn't differ much compared to results gained when using only cleveland and hungarian dataset"
   ]
  },
  {
   "cell_type": "code",
   "execution_count": 680,
   "metadata": {
    "collapsed": true
   },
   "outputs": [],
   "source": [
    "colnames = ['age', 'sex', 'cp', 'trestbps', 'chol', 'fbs', 'restecg', 'thalach', 'exang', 'oldpeak', 'slope', 'ca', 'thal', 'diagnose']\n",
    "\n",
    "# Processed data\n",
    "\n",
    "pCleveland = pd.read_csv('https://archive.ics.uci.edu/ml/machine-learning-databases/heart-disease/processed.cleveland.data', na_values='?', names=colnames)\n",
    "pHungarian = pd.read_csv('https://archive.ics.uci.edu/ml/machine-learning-databases/heart-disease/processed.hungarian.data', na_values='?', names=colnames)"
   ]
  },
  {
   "cell_type": "markdown",
   "metadata": {},
   "source": [
    "Preprocessingc steps:\n",
    "    1. Combine datasets\n",
    "    2. Replace missing values\n",
    "    3. Separate the \"label\" from the data\n",
    "    4. Scaling the data\n",
    "    5. Dividing data into training and validation/test data"
   ]
  },
  {
   "cell_type": "code",
   "execution_count": 681,
   "metadata": {},
   "outputs": [
    {
     "data": {
      "text/plain": [
       "((382, 13), (215, 13), (382,), (215,))"
      ]
     },
     "execution_count": 681,
     "metadata": {},
     "output_type": "execute_result"
    }
   ],
   "source": [
    "# Combining datasets\n",
    "datas = [pCleveland, pHungarian]\n",
    "data = pd.concat(datas)\n",
    "\n",
    "# Replace missing data with mean of the column\n",
    "data = data.where(~np.isnan(data), data.mean(), axis='columns')\n",
    "\n",
    "# Transfrom diagnosis colums to be true or false \n",
    "labels = (data['diagnose'] > 0).values\n",
    "\n",
    "# Drop diagnosis column from the data\n",
    "data = data.drop(['diagnose'], axis=1)\n",
    "columns = ['age', 'sex', 'cp', 'trestbps', \n",
    "           'chol', 'fbs', 'restecg', 'thalach', \n",
    "           'exang', 'oldpeak', 'slope', 'ca', 'thal']\n",
    "data = data[columns].values\n",
    "\n",
    "# Scale dataset\n",
    "min_max_scaler = preprocessing.MinMaxScaler()\n",
    "data_minmax = min_max_scaler.fit_transform(data)\n",
    "\n",
    "# Dividing data to train/test set\n",
    "x_train, x_test, y_train, y_test = train_test_split(\n",
    "    data_minmax, labels, test_size=0.36)\n",
    "x_train.shape, x_test.shape, y_train.shape, y_test.shape"
   ]
  },
  {
   "cell_type": "markdown",
   "metadata": {},
   "source": [
    "## 4. Modeling and compilation\n",
    "\n",
    "\n"
   ]
  },
  {
   "cell_type": "markdown",
   "metadata": {},
   "source": [
    "I tested the model with multiple amount of hidden layers but it seemed have least overfitting with only 1 hidden layer. Also I tested with different activation functions (in the first layer) but 'relu' seemed to work the best. With other activation functions model usually was underfitting."
   ]
  },
  {
   "cell_type": "code",
   "execution_count": 682,
   "metadata": {},
   "outputs": [
    {
     "name": "stdout",
     "output_type": "stream",
     "text": [
      "_________________________________________________________________\n",
      "Layer (type)                 Output Shape              Param #   \n",
      "=================================================================\n",
      "dense_168 (Dense)            (None, 64)                896       \n",
      "_________________________________________________________________\n",
      "dense_169 (Dense)            (None, 1)                 65        \n",
      "=================================================================\n",
      "Total params: 961\n",
      "Trainable params: 961\n",
      "Non-trainable params: 0\n",
      "_________________________________________________________________\n"
     ]
    }
   ],
   "source": [
    "model = keras.models.Sequential()\n",
    "model.add(keras.layers.Dense(64, input_shape=(13,), activation='relu'))\n",
    "model.add(keras.layers.Dense(1, activation='sigmoid'))\n",
    "model.compile(optimizer='rmsprop', loss='binary_crossentropy', metrics=['acc'])\n",
    "\n",
    "model.summary()"
   ]
  },
  {
   "cell_type": "markdown",
   "metadata": {},
   "source": [
    "## 5. Training and Validation"
   ]
  },
  {
   "cell_type": "markdown",
   "metadata": {},
   "source": [
    "I noticed that the results were best if the training batch_size was around 100 batches. 15 epochs was enough to train the model, after that the model started to overfit."
   ]
  },
  {
   "cell_type": "code",
   "execution_count": 683,
   "metadata": {},
   "outputs": [],
   "source": [
    "hist = model.fit(x_train, y_train, epochs=100, batch_size=100, verbose = 0, validation_data=(x_test,y_test))"
   ]
  },
  {
   "cell_type": "code",
   "execution_count": 684,
   "metadata": {},
   "outputs": [
    {
     "data": {
      "image/png": "[encoded data removed]",
      "text/plain": [
       "<matplotlib.figure.Figure at 0x2b680e44358>"
      ]
     },
     "metadata": {},
     "output_type": "display_data"
    },
    {
     "data": {
      "image/png": "[encoded data removed]",
      "text/plain": [
       "<matplotlib.figure.Figure at 0x2b6fb27bef0>"
      ]
     },
     "metadata": {},
     "output_type": "display_data"
    }
   ],
   "source": [
    "# Plot the results\n",
    "\n",
    "epochs = range(1, len(acc) + 1)\n",
    "acc = hist.history['acc']\n",
    "val_acc = hist.history['val_acc']\n",
    "loss = hist.history['loss']\n",
    "val_loss = hist.history['val_loss']\n",
    "\n",
    "# Accuracy plot\n",
    "plt.figure(figsize = (20, 5))\n",
    "plt.plot(epochs, acc, 'bo', label='Training')\n",
    "plt.plot(epochs, val_acc, 'b', label = 'Validation')\n",
    "plt.xlabel('Epochs')\n",
    "plt.ylabel('Accuracy')\n",
    "plt.ylim([0, 1])\n",
    "plt.grid()\n",
    "plt.legend()\n",
    "plt.show()\n",
    "\n",
    "# Loss plot\n",
    "plt.figure(figsize = (20, 5))\n",
    "plt.plot(epochs, loss, 'bo', label='Training')\n",
    "plt.plot(epochs, val_loss, 'b', label = 'Validation')\n",
    "plt.xlabel('Epochs')\n",
    "plt.ylabel('Loss')\n",
    "plt.ylim([0.2, 0.8])\n",
    "plt.grid()\n",
    "plt.legend()\n",
    "plt.show()"
   ]
  },
  {
   "cell_type": "markdown",
   "metadata": {},
   "source": [
    "## 6. Evaluation"
   ]
  },
  {
   "cell_type": "markdown",
   "metadata": {},
   "source": [
    "I formed the model again and used only 20 epochs. This way I don't test with a overfitted model."
   ]
  },
  {
   "cell_type": "code",
   "execution_count": 685,
   "metadata": {},
   "outputs": [
    {
     "name": "stdout",
     "output_type": "stream",
     "text": [
      "215/215 [==============================] - 0s 19us/step\n",
      "[0.51465684036875881, 0.80000001192092896]\n"
     ]
    }
   ],
   "source": [
    "model = keras.models.Sequential()\n",
    "model.add(keras.layers.Dense(64, input_shape=(13,), activation='relu'))\n",
    "model.add(keras.layers.Dense(1, activation='sigmoid'))\n",
    "model.compile(optimizer='rmsprop', loss='binary_crossentropy', metrics=['acc'])\n",
    "hist = model.fit(x_train, y_train, epochs=20, batch_size=100, verbose = 0, validation_data=(x_test,y_test))\n",
    "\n",
    "score = model.evaluate(x_test, y_test, batch_size=100)\n",
    "print(score)"
   ]
  },
  {
   "cell_type": "markdown",
   "metadata": {},
   "source": [
    "## 7. Results and Discussion"
   ]
  },
  {
   "cell_type": "markdown",
   "metadata": {},
   "source": [
    "Best accuracy % I got was around 83 %. But mostly my models accuracy was around 80 %. I think thats reasonable outcome with this size of dataset. I think it's possible to get close to 90 accuracy % with more data and some magic."
   ]
  },
  {
   "cell_type": "markdown",
   "metadata": {},
   "source": [
    "## 8. Conclusions"
   ]
  },
  {
   "cell_type": "markdown",
   "metadata": {},
   "source": [
    "Im pretty satisfied with my result. With my model it's possible to save lot of people's lives ;)\n",
    "\n",
    "With keras, the modeling and training was pretty easy. The hardest part was to preprocess the data and decised how to deal with the missing data values (Mayby it's possible to predict missing values with another model before actually training the real model)."
   ]
  }
 ],
 "metadata": {
  "kernelspec": {
   "display_name": "Python 3",
   "language": "python",
   "name": "python3"
  },
  "language_info": {
   "codemirror_mode": {
    "name": "ipython",
    "version": 3
   },
   "file_extension": ".py",
   "mimetype": "text/x-python",
   "name": "python",
   "nbconvert_exporter": "python",
   "pygments_lexer": "ipython3",
   "version": "3.6.3"
  }
 },
 "nbformat": 4,
 "nbformat_minor": 2
}
