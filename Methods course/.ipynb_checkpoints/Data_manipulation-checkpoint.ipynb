{
 "cells": [
  {
   "cell_type": "markdown",
   "metadata": {},
   "source": [
    "# Data Manipulation Ville Seeste"
   ]
  },
  {
   "cell_type": "code",
   "execution_count": 1,
   "metadata": {
    "collapsed": true
   },
   "outputs": [],
   "source": [
    "import pandas as pd\n",
    "import numpy as np\n",
    "import matplotlib.pyplot as plt"
   ]
  },
  {
   "cell_type": "code",
   "execution_count": 2,
   "metadata": {
    "collapsed": true
   },
   "outputs": [],
   "source": [
    "d = {'Id': [1, 2, 3, 4, 5, 6, 7, 8, 9, 10, 11, 12], \n",
    "     'Weight': [92, 70, 58, 99, 55, 76, 62, 92, 71, 70, 77, 79],\n",
    "     'Exercise': [6, 6, 6, 2, 8, 4, 6, 6, 5, 6, 4, 4],\n",
    "     'Cholesterol': [4.8, 5.1, 6.4, 6.5, 2.3, 5.7, 4.2, 6.9, 4.8, 4.8, 7.7, 5.7],\n",
    "     'Income': [2060, 2660, 2530, 1740, 3520, 3750, 2720, 3130, 2100, 3340, 2430, 2700],\n",
    "     'Happiness': [49, 36, 49, 28, 77, 55, 43, 39, 54, 29, 53, 47],\n",
    "     'Birthyear': [1953, 1955, 1939, 1942, 1989, 1937, 1979, 1905, 1995, 1966, 1938, 1993]}\n",
    "df = pd.DataFrame(data=d)"
   ]
  },
  {
   "cell_type": "markdown",
   "metadata": {},
   "source": [
    "# Statistics\n",
    "\n",
    "a)"
   ]
  },
  {
   "cell_type": "code",
   "execution_count": 3,
   "metadata": {},
   "outputs": [
    {
     "data": {
      "text/plain": [
       "count    12.000000\n",
       "mean     75.083333\n",
       "std      13.813421\n",
       "min      55.000000\n",
       "25%      68.000000\n",
       "50%      73.500000\n",
       "75%      82.250000\n",
       "max      99.000000\n",
       "Name: Weight, dtype: float64"
      ]
     },
     "execution_count": 3,
     "metadata": {},
     "output_type": "execute_result"
    }
   ],
   "source": [
    "df['Weight'].describe()"
   ]
  },
  {
   "cell_type": "code",
   "execution_count": 4,
   "metadata": {},
   "outputs": [
    {
     "data": {
      "text/plain": [
       "count    12.000000\n",
       "mean      5.250000\n",
       "std       1.544786\n",
       "min       2.000000\n",
       "25%       4.000000\n",
       "50%       6.000000\n",
       "75%       6.000000\n",
       "max       8.000000\n",
       "Name: Exercise, dtype: float64"
      ]
     },
     "execution_count": 4,
     "metadata": {},
     "output_type": "execute_result"
    }
   ],
   "source": [
    "df['Exercise'].describe()"
   ]
  },
  {
   "cell_type": "code",
   "execution_count": 5,
   "metadata": {},
   "outputs": [
    {
     "data": {
      "text/plain": [
       "count    12.000000\n",
       "mean      5.408333\n",
       "std       1.419000\n",
       "min       2.300000\n",
       "25%       4.800000\n",
       "50%       5.400000\n",
       "75%       6.425000\n",
       "max       7.700000\n",
       "Name: Cholesterol, dtype: float64"
      ]
     },
     "execution_count": 5,
     "metadata": {},
     "output_type": "execute_result"
    }
   ],
   "source": [
    "df['Cholesterol'].describe()"
   ]
  },
  {
   "cell_type": "code",
   "execution_count": 6,
   "metadata": {},
   "outputs": [
    {
     "data": {
      "text/plain": [
       "count      12.000000\n",
       "mean     2723.333333\n",
       "std       614.807188\n",
       "min      1740.000000\n",
       "25%      2347.500000\n",
       "50%      2680.000000\n",
       "75%      3182.500000\n",
       "max      3750.000000\n",
       "Name: Income, dtype: float64"
      ]
     },
     "execution_count": 6,
     "metadata": {},
     "output_type": "execute_result"
    }
   ],
   "source": [
    "df['Income'].describe()"
   ]
  },
  {
   "cell_type": "code",
   "execution_count": 7,
   "metadata": {},
   "outputs": [
    {
     "data": {
      "text/plain": [
       "count    12.000000\n",
       "mean     46.583333\n",
       "std      13.283334\n",
       "min      28.000000\n",
       "25%      38.250000\n",
       "50%      48.000000\n",
       "75%      53.250000\n",
       "max      77.000000\n",
       "Name: Happiness, dtype: float64"
      ]
     },
     "execution_count": 7,
     "metadata": {},
     "output_type": "execute_result"
    }
   ],
   "source": [
    "df['Happiness'].describe()"
   ]
  },
  {
   "cell_type": "code",
   "execution_count": 8,
   "metadata": {},
   "outputs": [
    {
     "data": {
      "text/plain": [
       "count      12.000000\n",
       "mean     1957.583333\n",
       "std        27.566311\n",
       "min      1905.000000\n",
       "25%      1938.750000\n",
       "50%      1954.000000\n",
       "75%      1981.500000\n",
       "max      1995.000000\n",
       "Name: Birthyear, dtype: float64"
      ]
     },
     "execution_count": 8,
     "metadata": {},
     "output_type": "execute_result"
    }
   ],
   "source": [
    "df['Birthyear'].describe()"
   ]
  },
  {
   "cell_type": "markdown",
   "metadata": {},
   "source": [
    "b)"
   ]
  },
  {
   "cell_type": "code",
   "execution_count": 9,
   "metadata": {},
   "outputs": [
    {
     "name": "stdout",
     "output_type": "stream",
     "text": [
      "Person 1: below average income.\n",
      "Person 2: below average income.\n",
      "Person 3: below average income.\n",
      "Person 4: below average income.\n",
      "Person 5: above average income.\n",
      "Person 6: above average income.\n",
      "Person 7: below average income.\n",
      "Person 8: above average income.\n",
      "Person 9: below average income.\n",
      "Person 10: above average income.\n",
      "Person 11: below average income.\n",
      "Person 12: below average income.\n"
     ]
    }
   ],
   "source": [
    "average_income = df['Income'].mean()\n",
    "\n",
    "i = 1\n",
    "incomes = df['Income']\n",
    "for income in incomes:\n",
    "    if income > average_income:\n",
    "        print('Person ' + str(i) + ': above average income.')\n",
    "    elif income < average_income:\n",
    "        print('Person ' + str(i) + ': below average income.')\n",
    "    else:\n",
    "        print('Person ' + str(i) + ': average income.') \n",
    "    i += 1"
   ]
  },
  {
   "cell_type": "markdown",
   "metadata": {},
   "source": [
    "# Chronic kidney disease"
   ]
  },
  {
   "cell_type": "code",
   "execution_count": 10,
   "metadata": {
    "collapsed": true
   },
   "outputs": [],
   "source": [
    "# load the file and replace ? with NaN\n",
    "\n",
    "kd = pd.read_csv('kd.csv', na_values='?')"
   ]
  },
  {
   "cell_type": "code",
   "execution_count": 11,
   "metadata": {},
   "outputs": [
    {
     "data": {
      "text/html": [
       "<div>\n",
       "<style>\n",
       "    .dataframe thead tr:only-child th {\n",
       "        text-align: right;\n",
       "    }\n",
       "\n",
       "    .dataframe thead th {\n",
       "        text-align: left;\n",
       "    }\n",
       "\n",
       "    .dataframe tbody tr th {\n",
       "        vertical-align: top;\n",
       "    }\n",
       "</style>\n",
       "<table border=\"1\" class=\"dataframe\">\n",
       "  <thead>\n",
       "    <tr style=\"text-align: right;\">\n",
       "      <th></th>\n",
       "      <th>age</th>\n",
       "      <th>bp</th>\n",
       "      <th>sg</th>\n",
       "      <th>al</th>\n",
       "      <th>su</th>\n",
       "      <th>bgr</th>\n",
       "      <th>bu</th>\n",
       "      <th>sc</th>\n",
       "      <th>sod</th>\n",
       "      <th>pot</th>\n",
       "      <th>hemo</th>\n",
       "    </tr>\n",
       "  </thead>\n",
       "  <tbody>\n",
       "    <tr>\n",
       "      <th>count</th>\n",
       "      <td>242.000000</td>\n",
       "      <td>240.000000</td>\n",
       "      <td>208.000000</td>\n",
       "      <td>209.000000</td>\n",
       "      <td>206.000000</td>\n",
       "      <td>212.000000</td>\n",
       "      <td>237.000000</td>\n",
       "      <td>238.000000</td>\n",
       "      <td>168.000000</td>\n",
       "      <td>167.000000</td>\n",
       "      <td>204.000000</td>\n",
       "    </tr>\n",
       "    <tr>\n",
       "      <th>mean</th>\n",
       "      <td>54.541322</td>\n",
       "      <td>79.625000</td>\n",
       "      <td>1.013918</td>\n",
       "      <td>1.722488</td>\n",
       "      <td>0.766990</td>\n",
       "      <td>175.419811</td>\n",
       "      <td>72.389030</td>\n",
       "      <td>4.414916</td>\n",
       "      <td>133.901786</td>\n",
       "      <td>4.878443</td>\n",
       "      <td>10.647549</td>\n",
       "    </tr>\n",
       "    <tr>\n",
       "      <th>std</th>\n",
       "      <td>17.388899</td>\n",
       "      <td>15.234053</td>\n",
       "      <td>0.004627</td>\n",
       "      <td>1.372645</td>\n",
       "      <td>1.348559</td>\n",
       "      <td>92.082223</td>\n",
       "      <td>58.587236</td>\n",
       "      <td>6.950275</td>\n",
       "      <td>12.402827</td>\n",
       "      <td>4.321550</td>\n",
       "      <td>2.185790</td>\n",
       "    </tr>\n",
       "    <tr>\n",
       "      <th>min</th>\n",
       "      <td>2.000000</td>\n",
       "      <td>50.000000</td>\n",
       "      <td>1.005000</td>\n",
       "      <td>0.000000</td>\n",
       "      <td>0.000000</td>\n",
       "      <td>22.000000</td>\n",
       "      <td>1.500000</td>\n",
       "      <td>0.500000</td>\n",
       "      <td>4.500000</td>\n",
       "      <td>2.500000</td>\n",
       "      <td>3.100000</td>\n",
       "    </tr>\n",
       "    <tr>\n",
       "      <th>25%</th>\n",
       "      <td>47.000000</td>\n",
       "      <td>70.000000</td>\n",
       "      <td>1.010000</td>\n",
       "      <td>0.000000</td>\n",
       "      <td>0.000000</td>\n",
       "      <td>106.750000</td>\n",
       "      <td>32.000000</td>\n",
       "      <td>1.425000</td>\n",
       "      <td>132.000000</td>\n",
       "      <td>3.850000</td>\n",
       "      <td>9.475000</td>\n",
       "    </tr>\n",
       "    <tr>\n",
       "      <th>50%</th>\n",
       "      <td>59.000000</td>\n",
       "      <td>80.000000</td>\n",
       "      <td>1.015000</td>\n",
       "      <td>2.000000</td>\n",
       "      <td>0.000000</td>\n",
       "      <td>143.500000</td>\n",
       "      <td>53.000000</td>\n",
       "      <td>2.250000</td>\n",
       "      <td>136.000000</td>\n",
       "      <td>4.300000</td>\n",
       "      <td>10.900000</td>\n",
       "    </tr>\n",
       "    <tr>\n",
       "      <th>75%</th>\n",
       "      <td>66.000000</td>\n",
       "      <td>90.000000</td>\n",
       "      <td>1.015000</td>\n",
       "      <td>3.000000</td>\n",
       "      <td>1.000000</td>\n",
       "      <td>219.250000</td>\n",
       "      <td>93.000000</td>\n",
       "      <td>4.550000</td>\n",
       "      <td>139.000000</td>\n",
       "      <td>4.900000</td>\n",
       "      <td>12.025000</td>\n",
       "    </tr>\n",
       "    <tr>\n",
       "      <th>max</th>\n",
       "      <td>90.000000</td>\n",
       "      <td>180.000000</td>\n",
       "      <td>1.025000</td>\n",
       "      <td>5.000000</td>\n",
       "      <td>5.000000</td>\n",
       "      <td>490.000000</td>\n",
       "      <td>391.000000</td>\n",
       "      <td>76.000000</td>\n",
       "      <td>163.000000</td>\n",
       "      <td>47.000000</td>\n",
       "      <td>16.100000</td>\n",
       "    </tr>\n",
       "  </tbody>\n",
       "</table>\n",
       "</div>"
      ],
      "text/plain": [
       "              age          bp          sg          al          su         bgr  \\\n",
       "count  242.000000  240.000000  208.000000  209.000000  206.000000  212.000000   \n",
       "mean    54.541322   79.625000    1.013918    1.722488    0.766990  175.419811   \n",
       "std     17.388899   15.234053    0.004627    1.372645    1.348559   92.082223   \n",
       "min      2.000000   50.000000    1.005000    0.000000    0.000000   22.000000   \n",
       "25%     47.000000   70.000000    1.010000    0.000000    0.000000  106.750000   \n",
       "50%     59.000000   80.000000    1.015000    2.000000    0.000000  143.500000   \n",
       "75%     66.000000   90.000000    1.015000    3.000000    1.000000  219.250000   \n",
       "max     90.000000  180.000000    1.025000    5.000000    5.000000  490.000000   \n",
       "\n",
       "               bu          sc         sod         pot        hemo  \n",
       "count  237.000000  238.000000  168.000000  167.000000  204.000000  \n",
       "mean    72.389030    4.414916  133.901786    4.878443   10.647549  \n",
       "std     58.587236    6.950275   12.402827    4.321550    2.185790  \n",
       "min      1.500000    0.500000    4.500000    2.500000    3.100000  \n",
       "25%     32.000000    1.425000  132.000000    3.850000    9.475000  \n",
       "50%     53.000000    2.250000  136.000000    4.300000   10.900000  \n",
       "75%     93.000000    4.550000  139.000000    4.900000   12.025000  \n",
       "max    391.000000   76.000000  163.000000   47.000000   16.100000  "
      ]
     },
     "execution_count": 11,
     "metadata": {},
     "output_type": "execute_result"
    }
   ],
   "source": [
    "# Filter the data and print basic statistics\n",
    "\n",
    "affected = kd.loc[(kd['class'] == 'ckd') | (kd['class'] == 'ckd\\t')]\n",
    "affected.describe()"
   ]
  },
  {
   "cell_type": "code",
   "execution_count": 25,
   "metadata": {},
   "outputs": [
    {
     "name": "stdout",
     "output_type": "stream",
     "text": [
      "           age        bp        sg        al        su       bgr        bu  \\\n",
      "age   1.000000  0.139914 -0.051072 -0.019526  0.202558  0.157971  0.128488   \n",
      "bp    0.139914  1.000000  0.006266 -0.036475  0.144743  0.044731  0.103476   \n",
      "sg   -0.051072  0.006266  1.000000 -0.016263 -0.081830 -0.078618 -0.075402   \n",
      "al   -0.019526 -0.036475 -0.016263  1.000000  0.074083  0.135627  0.313240   \n",
      "su    0.202558  0.144743 -0.081830  0.074083  1.000000  0.676076  0.047734   \n",
      "bgr   0.157971  0.044731 -0.078618  0.135627  0.676076  1.000000 -0.032205   \n",
      "bu    0.128488  0.103476 -0.075402  0.313240  0.047734 -0.032205  1.000000   \n",
      "sc    0.077511  0.068781 -0.132552  0.214068  0.099910 -0.052915  0.542641   \n",
      "sod  -0.024347  0.023079  0.128031 -0.218883  0.098796 -0.084598 -0.189845   \n",
      "pot   0.057800  0.059091 -0.012715  0.094635  0.202382  0.029099  0.367642   \n",
      "hemo -0.079249 -0.152088  0.079148 -0.299217  0.105882  0.104109 -0.567667   \n",
      "\n",
      "            sc       sod       pot      hemo  \n",
      "age   0.077511 -0.024347  0.057800 -0.079249  \n",
      "bp    0.068781  0.023079  0.059091 -0.152088  \n",
      "sg   -0.132552  0.128031 -0.012715  0.079148  \n",
      "al    0.214068 -0.218883  0.094635 -0.299217  \n",
      "su    0.099910  0.098796  0.202382  0.105882  \n",
      "bgr  -0.052915 -0.084598  0.029099  0.104109  \n",
      "bu    0.542641 -0.189845  0.367642 -0.567667  \n",
      "sc    1.000000 -0.677810  0.330187 -0.276875  \n",
      "sod  -0.677810  1.000000  0.185020  0.125149  \n",
      "pot   0.330187  0.185020  1.000000 -0.159390  \n",
      "hemo -0.276875  0.125149 -0.159390  1.000000  \n"
     ]
    },
    {
     "data": {
      "image/png": "[encoded data removed]",
      "text/plain": [
       "<matplotlib.figure.Figure at 0x18ba2fcd4a8>"
      ]
     },
     "metadata": {},
     "output_type": "display_data"
    }
   ],
   "source": [
    "correlations = affected.corr()\n",
    "fig = plt.figure(figsize=[14,14])\n",
    "ax = fig.add_subplot(111)\n",
    "cax = ax.matshow(correlations, vmin=-1, vmax=1)\n",
    "fig.colorbar(cax)\n",
    "ticks = np.arange(0,11,1)\n",
    "ax.set_xticks(ticks)\n",
    "ax.set_yticks(ticks)\n",
    "ax.set_xticklabels(kd)\n",
    "ax.set_yticklabels(kd)\n",
    "\n",
    "print(correlations)\n",
    "plt.show()"
   ]
  }
 ],
 "metadata": {
  "kernelspec": {
   "display_name": "Python 3",
   "language": "python",
   "name": "python3"
  },
  "language_info": {
   "codemirror_mode": {
    "name": "ipython",
    "version": 3
   },
   "file_extension": ".py",
   "mimetype": "text/x-python",
   "name": "python",
   "nbconvert_exporter": "python",
   "pygments_lexer": "ipython3",
   "version": "3.6.3"
  }
 },
 "nbformat": 4,
 "nbformat_minor": 2
}
